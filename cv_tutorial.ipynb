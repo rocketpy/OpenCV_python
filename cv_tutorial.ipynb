{
 "cells": [
  {
   "cell_type": "code",
   "execution_count": null,
   "metadata": {},
   "outputs": [],
   "source": [
    "#  wery important !!!!!\n",
    "#  If you are using a 64-bit machine, you will have to modify k = cv.waitKey(0) line as follows : k = cv.waitKey(0) & 0xFF"
   ]
  },
  {
   "cell_type": "code",
   "execution_count": null,
   "metadata": {},
   "outputs": [],
   "source": [
    "# pip install opencv-python\n",
    "import cv2\n",
    "\n",
    "# open image file\n",
    "img=cv2.imread(\"file_name.jpg\", 1)  # 1 - in RGB , 0 - in grayscale , -1 - in alpha channel (transparency)\n",
    "\n",
    "type(img)  # numpy nd.array\n",
    "\n",
    "# image shape\n",
    "img.shape\n",
    "\n",
    "# image dimensional , in RGB - 3 , in grayscale - 2\n",
    "img.ndim\n",
    "\n",
    "# for open image \n",
    "cv2.imshow(\"some_name_for_window\", img)\n",
    "# k = cv.waitKey(0) & 0xFF   for 64-bit machines\n",
    "cv2.waitKey(0)  # time , if 0 - for close push any button ,if 5000 = 5 seconds\n",
    "cv2.destroyAllWindows()"
   ]
  },
  {
   "cell_type": "code",
   "execution_count": null,
   "metadata": {},
   "outputs": [],
   "source": [
    "import cv2\n",
    "import numpy\n",
    "\n",
    "\n",
    "img = cv2.imread(\"file_name.jpg\", 1)  # 1 - in RGB , 0 - in grayscale , -1 - in alpha channel (transparency)\n",
    "cv2.imshow(\"some_name_for_window\", img)\n",
    "k = cv2.waitKey(0)\n",
    "\n",
    "if k == 27:  # 27 its a escape button ( ESC )\n",
    "    cv2.destroyAllWindows()\n",
    "elif k == ord('s'):  # need press 's' button fo write img\n",
    "    cv2.imwrite(\"new_name.jpg\", img)\n",
    "    cv2.destroyAllWindows()"
   ]
  },
  {
   "cell_type": "code",
   "execution_count": null,
   "metadata": {},
   "outputs": [],
   "source": [
    "import cv2\n",
    "\n",
    "\n",
    "img=cv2.imread(\"file_name.jpg\", 1)\n",
    "\n",
    "# for resize image\n",
    "resized_image=cv2.resize(img, (1000, 500))  # input wich size we want (width , heigh)\n",
    "\n",
    "cv2.imshow(\"some_name_for_window\", resized_image)\n",
    "cv2.waitKey(0)\n",
    "cv2.destroyAllWindows()"
   ]
  },
  {
   "cell_type": "code",
   "execution_count": null,
   "metadata": {},
   "outputs": [],
   "source": [
    "# save resized image\n",
    "cv2.imwrite(\"name.jpg\", resized_image)\n"
   ]
  },
  {
   "cell_type": "code",
   "execution_count": null,
   "metadata": {},
   "outputs": [],
   "source": [
    "# for resize images\n",
    "# for python 3.7 pip install glob3\n",
    "import cv2\n",
    "import glob  # or  glob2\n",
    "\n",
    "images=glob.glob(\"*.jpg\")\n",
    "\n",
    "for image in images:\n",
    "    img=cv2.imread(image,0)\n",
    "    re=cv2.resize(img,(100,100))\n",
    "    \n",
    "    cv2.imshow(\"Hey\",re)  # use this , if need show result\n",
    "    cv2.waitKey(500)\n",
    "    cv2.destroyAllWindows()\n",
    "    cv2.imwrite(\"resized_\"+image,re)\n",
    "    "
   ]
  },
  {
   "cell_type": "code",
   "execution_count": 15,
   "metadata": {},
   "outputs": [],
   "source": [
    "# resizing images in working directory\n",
    "import cv2\n",
    "import glob\n",
    "\n",
    "\n",
    "images=glob.glob(\"*.jpg\")\n",
    "\n",
    "for image in images:\n",
    "    img=cv2.imread(image,0)  # 1 - with colors\n",
    "    re=cv2.resize(img,(100,100))  # width and heigh pixels\n",
    "    cv2.imwrite(\"resized_\"+image,re)"
   ]
  },
  {
   "cell_type": "code",
   "execution_count": null,
   "metadata": {},
   "outputs": [],
   "source": [
    "import cv2   \n",
    "import os \n",
    "  \n",
    "    \n",
    "image_path = r'C:\\Users\\Rajnish\\Desktop\\GeeksforGeeks\\geeks.png' \n",
    "directory = r'C:\\Users\\Rajnish\\Desktop\\GeeksforGeeks'\n",
    "  \n",
    "img = cv2.imread(image_path) \n",
    "  \n",
    "os.chdir(directory) \n",
    "  \n",
    "# List files and directories   \n",
    " \n",
    "print(\"Before saving image:\")   \n",
    "print(os.listdir(directory))   \n",
    "  \n",
    "filename = 'savedImage.jpg'\n",
    "  \n",
    "cv2.imwrite(filename, img) \n",
    "  \n",
    "# List files and directories   \n",
    "# in 'C:/Users / Rajnish / Desktop / GeeksforGeeks'   \n",
    "print(\"After saving image:\")   \n",
    "print(os.listdir(directory)) \n",
    "  \n",
    "print('Successfully saved') "
   ]
  }
 ],
 "metadata": {
  "kernelspec": {
   "display_name": "Python 3",
   "language": "python",
   "name": "python3"
  },
  "language_info": {
   "codemirror_mode": {
    "name": "ipython",
    "version": 3
   },
   "file_extension": ".py",
   "mimetype": "text/x-python",
   "name": "python",
   "nbconvert_exporter": "python",
   "pygments_lexer": "ipython3",
   "version": "3.6.2"
  }
 },
 "nbformat": 4,
 "nbformat_minor": 2
}
