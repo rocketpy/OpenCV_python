{
 "cells": [
  {
   "cell_type": "code",
   "execution_count": null,
   "metadata": {},
   "outputs": [],
   "source": [
    "# pip install opencv-python\n",
    "import cv2\n",
    "\n",
    "# open image file\n",
    "img=cv2.imread(\"file_name.jpg\", 1)  # 1 - in RGB , 0 - in grayscale , -1 - in alpha channel (transparency)\n",
    "\n",
    "type(img)  # numpy nd.array\n",
    "\n",
    "# image shape width and height ( in pixels)\n",
    "img.shape\n",
    "\n",
    "# image dimensional\n",
    "img.ndim\n",
    "\n",
    "# for open image \n",
    "cv2.imshow(\"some_name_for_window\", img)\n",
    "cv2.waitKey(0)  # time , if 0 - for close push any button ,if 5000 = 5 seconds\n",
    "cv2.destroyAllWindows()\n"
   ]
  },
  {
   "cell_type": "code",
   "execution_count": null,
   "metadata": {},
   "outputs": [],
   "source": [
    "import cv2\n",
    "\n",
    "\n",
    "img=cv2.imread(\"file_name.jpg\", 1)\n",
    "\n",
    "# for resize image\n",
    "resized_image=cv2.resize(img, (1000, 500))  # input wich size you need (width , heigh)\n",
    "\n",
    "cv2.imshow(\"some_name_for_window\", resized_image)\n",
    "cv2.waitKey(0)\n",
    "cv2.destroyAllWindows()"
   ]
  },
  {
   "cell_type": "code",
   "execution_count": null,
   "metadata": {},
   "outputs": [],
   "source": [
    "# save resized image\n",
    "cv2.imwrite(\"name.jpg\", resized_image)\n"
   ]
  }
 ],
 "metadata": {
  "kernelspec": {
   "display_name": "Python 3",
   "language": "python",
   "name": "python3"
  },
  "language_info": {
   "codemirror_mode": {
    "name": "ipython",
    "version": 3
   },
   "file_extension": ".py",
   "mimetype": "text/x-python",
   "name": "python",
   "nbconvert_exporter": "python",
   "pygments_lexer": "ipython3",
   "version": "3.6.2"
  }
 },
 "nbformat": 4,
 "nbformat_minor": 2
}
